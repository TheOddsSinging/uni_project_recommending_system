{
 "cells": [
  {
   "cell_type": "code",
   "execution_count": 2,
   "id": "789212c9",
   "metadata": {},
   "outputs": [],
   "source": [
    "import numpy as np\n",
    "import pandas as pd\n",
    "from matplotlib import pyplot as plt\n",
    "from sklearn.ensemble import StackingRegressor\n",
    "from sklearn.linear_model import LinearRegression\n",
    "from sklearn.metrics import mean_absolute_error\n",
    "from sklearn.metrics import mean_squared_error\n",
    "from sklearn.model_selection import StratifiedKFold\n",
    "from surprise import Dataset\n",
    "from surprise import Reader\n",
    "from surprise import accuracy\n",
    "from surprise.model_selection import cross_validate\n",
    "from surprise.model_selection import train_test_split\n",
    "from surprise.model_selection import GridSearchCV\n",
    "from surprise import SVD\n",
    "from surprise import KNNWithMeans\n",
    "from surprise import KNNBaseline\n",
    "from surprise import CoClustering\n",
    "from surprise import BaselineOnly\n",
    "from surprise import AlgoBase\n",
    "from surprise import PredictionImpossible\n",
    "import math\n",
    "import heapq\n",
    "import warnings"
   ]
  },
  {
   "cell_type": "code",
   "execution_count": 3,
   "id": "547e6cb0",
   "metadata": {},
   "outputs": [],
   "source": [
    "warnings.filterwarnings('ignore')"
   ]
  },
  {
   "cell_type": "code",
   "execution_count": 13,
   "id": "80fcda62",
   "metadata": {},
   "outputs": [],
   "source": [
    "def get_models():\n",
    "    \n",
    "    models = dict()\n",
    "    models['SVD'] = SVD()\n",
    "    models['User_KNN'] = KNNWithMeans(sim_options={'name':'cosine', 'user_based':True})\n",
    "    models['Item_KNN'] = KNNBaseline(sim_options={'name':'msd', 'user_based':False})\n",
    "    models['CoClustering'] = CoClustering()\n",
    "    models['BaselineOnly'] = BaselineOnly()\n",
    "    \n",
    "    return models"
   ]
  },
  {
   "cell_type": "code",
   "execution_count": 14,
   "id": "18c9bafb",
   "metadata": {},
   "outputs": [],
   "source": [
    "def evaluate(estimators):\n",
    "    \n",
    "    evaluation = {}\n",
    "\n",
    "    for name, estimator in estimators.items():\n",
    "        print('training '+name+'...')\n",
    "        estimator.fit(trainset)\n",
    "        print('evaluating '+name+'...')\n",
    "        predictions = estimator.test(valset)\n",
    "        mae = accuracy.mae(predictions, verbose=False)\n",
    "        rmse =  accuracy.rmse(predictions, verbose=False)\n",
    "        evaluation[name]=[mae, rmse]\n",
    "        print('done evaluating', name, '...')\n",
    "        print('----------------------------------------')\n",
    "\n",
    "    print(\"{:<20} {:<20} {:<20}\".format(\"Algorithm\", \"MAE\", \"RMSE\"))\n",
    "    for name, metrics in evaluation.items():\n",
    "        print(\"{:<20} {:<20.4f} {:<20.4f}\".format(name, metrics[0], metrics[1]))\n",
    "\n",
    "    print('----------------------------------------')\n",
    "\n",
    "    return evaluation"
   ]
  },
  {
   "cell_type": "code",
   "execution_count": 15,
   "id": "f6df1846",
   "metadata": {},
   "outputs": [],
   "source": [
    "def kfold_evalution(estimators, cv=10):\n",
    "\n",
    "    skf=StratifiedKFold(n_splits=cv)\n",
    "    evaluation={name:[] for name in estimators}\n",
    "\n",
    "    for name, estimator in estimators.items():\n",
    "        print('evaluating '+name+'...')\n",
    "\n",
    "        for train_index, test_index in skf.split(clean_train['Label'], clean_train['BeerID']):\n",
    "\n",
    "            train_split = clean_train.loc[train_index, :]\n",
    "            test_split = clean_train.loc[test_index, :]\n",
    "            data_train = Dataset.load_from_df(train_split[['ReviewerID', 'BeerID', 'Label']], reader)\n",
    "            data_test = Dataset.load_from_df(test_split[['ReviewerID', 'BeerID', 'Label']], reader)\n",
    "            trainset = data_train.build_full_trainset()\n",
    "            NA, testset = train_test_split(data_test, test_size=1.0)\n",
    "\n",
    "            estimator.fit(trainset)\n",
    "            predictions = estimator.test(testset)\n",
    "            mae = accuracy.mae(predictions, verbose=False)\n",
    "            evaluation[name].append(mae)\n",
    "        \n",
    "        print('done evaluating '+name+'...')\n",
    "        print('----------------------------------------')\n",
    "\n",
    "    \n",
    "    results = evaluation.values()\n",
    "    names = evaluation.keys()\n",
    "    fig = plt.figure(figsize=(15,5))\n",
    "    plt.boxplot(results, labels=names, showmeans=True)\n",
    "    plt.show(block=False)\n"
   ]
  },
  {
   "cell_type": "code",
   "execution_count": 16,
   "id": "29675889",
   "metadata": {},
   "outputs": [],
   "source": [
    "def get_content_dict():\n",
    "\n",
    "    print('loading the dataframe with selected features (BrewerID and ABV)...')\n",
    "\n",
    "    with open('A3data/features.tsv', 'r') as f:\n",
    "        lines = f.read().splitlines()\n",
    "        lines_list = [line.split('\\t') for line in lines]\n",
    "        rowid = [int(line[0]) for line in lines_list]\n",
    "        brewerid = [int(line[1]) for line in lines_list]\n",
    "        abv = [line[2] for line in lines_list]\n",
    "        feature_dict = {'RowID':rowid, 'BrewerID':brewerid, 'ABV':abv}\n",
    "        feature_df = pd.DataFrame(feature_dict)\n",
    "        feature_df['ABV'].replace({'':0}, inplace=True)\n",
    "        feature_df = feature_df.astype({'ABV':float})\n",
    "    print('---------------------------------------')\n",
    "    print('generating a content dictionary, BeerID being the keys, [BrewerID, ABV] being the values...')\n",
    "      \n",
    "    train_df = pd.read_csv('A3data/train.tsv', sep='\\t', names=['RowID', 'BeerID', 'ReviewerID', 'BeerName', 'BeerType', 'Label'])\n",
    "    content_df = train_df.merge(feature_df, on='RowID', how='left').loc[:,['BeerID', 'BrewerID', 'ABV']]\n",
    "    content_df.drop_duplicates(inplace=True)\n",
    "    content_df = content_df.reset_index(drop=True)\n",
    "\n",
    "    content_dict = {beerid:content_df[content_df['BeerID']==beerid].loc[:,['BrewerID', 'ABV']].values for beerid in content_df.BeerID.values}\n",
    "\n",
    "    print('done generating the dictionary...')\n",
    "    print('---------------------------------------')\n",
    "\n",
    "    return content_dict"
   ]
  },
  {
   "cell_type": "code",
   "execution_count": 17,
   "id": "e925769b",
   "metadata": {},
   "outputs": [],
   "source": [
    "class Content_KNN(AlgoBase):\n",
    "\n",
    "    def __init__(self, k=40, sim_options={}):\n",
    "        AlgoBase.__init__(self)\n",
    "        self.k = k\n",
    "\n",
    "    def fit(self, trainset, content_dict):\n",
    "        AlgoBase.fit(self, trainset)\n",
    "\n",
    "        print('computing content-based similarity matrix...')\n",
    "\n",
    "        self.similarities = np.zeros((self.trainset.n_items, self.trainset.n_items))\n",
    "\n",
    "        for thisRating in range(self.trainset.n_items):\n",
    "            if (thisRating % 1000 == 0):\n",
    "                print(thisRating, 'of', self.trainset.n_items)\n",
    "            for otherRating in range(thisRating+1, self.trainset.n_items):\n",
    "                thisBeerID = int(self.trainset.to_raw_iid(thisRating))\n",
    "                otherBeerID = int(self.trainset.to_raw_iid(otherRating))\n",
    "                \n",
    "                thisABV = content_dict[thisBeerID][0][1]\n",
    "                otherABV = content_dict[otherBeerID][0][1]\n",
    "                diff = abs(thisABV-otherABV)\n",
    "                sim_ABV = math.exp(-diff/10.0)\n",
    "\n",
    "                thisBrewerID = content_dict[thisBeerID][0][0]\n",
    "                otherBrewerID = content_dict[otherBeerID][0][0]\n",
    "                if thisBrewerID == otherBrewerID:\n",
    "                    sim_Brewer = 1\n",
    "                else:\n",
    "                    sim_Brewer = 0.01\n",
    "                \n",
    "                self.similarities[thisRating, otherRating] = sim_ABV*sim_Brewer\n",
    "                self.similarities[otherRating, thisRating] = self.similarities[thisRating, otherRating]\n",
    "\n",
    "        print('done computing similarity matrix...')\n",
    "        print('---------------------------------------')\n",
    "\n",
    "        return self\n",
    "\n",
    "    def predict(self, uid, iid):\n",
    "\n",
    "        u = trainset.to_inner_uid(uid)\n",
    "        i = trainset.to_inner_iid(iid)\n",
    "\n",
    "        if not (self.trainset.knows_user(u) and self.trainset.knows_item(i)):\n",
    "            raise PredictionImpossible('User and/or item is unknown...')\n",
    "\n",
    "        neighbors = []\n",
    "        for rating in self.trainset.ur[u]:\n",
    "            sim_tmp = self.similarities[i, rating[0]]\n",
    "            neighbors.append((sim_tmp, rating[1]))\n",
    "\n",
    "        k_neighbors = heapq.nlargest(self.k, neighbors, key=lambda t: t[0])\n",
    "\n",
    "        simTotal = weightedSum = 0\n",
    "        for (simScore, rating) in k_neighbors:\n",
    "            if (simScore > 0):\n",
    "                simTotal += simScore\n",
    "                weightedSum += simScore * rating\n",
    "\n",
    "        if (simTotal == 0):\n",
    "            raise PredictionImpossible('No neighbors')\n",
    "\n",
    "        predictedRating = weightedSum / simTotal\n",
    "\n",
    "        return predictedRating"
   ]
  },
  {
   "cell_type": "code",
   "execution_count": 18,
   "id": "54fd2c43",
   "metadata": {},
   "outputs": [],
   "source": [
    "def train_level0_estimators(train_path, estimators=get_models()):\n",
    "\n",
    "    print('training level0 estimators...')\n",
    "\n",
    "    train_df = pd.read_csv(train_path, sep='\\t', names=['RowID', 'BeerID', 'ReviewerID', 'BeerName', 'BeerType', 'Label'])\n",
    "    reader = Reader(rating_scale=(0,5))\n",
    "    train_data = Dataset.load_from_df(train_df.loc[:, ['ReviewerID', 'BeerID', 'Label']], reader)\n",
    "    trainset = train_data.build_full_trainset()\n",
    "    \n",
    "    for name, estimator in estimators.items():\n",
    "        print('training '+name+'...')\n",
    "        estimator.fit(trainset)\n",
    "        print('done training '+name+'...')\n",
    "    \n",
    "    print('done training level0 estimators')\n",
    "    print('-----------------------------------------')\n",
    "\n",
    "    return estimators"
   ]
  },
  {
   "cell_type": "code",
   "execution_count": 19,
   "id": "b94b26ec",
   "metadata": {},
   "outputs": [],
   "source": [
    "def train_level1_estimator(train_path, final_estimator, content_knn, estimators=get_models(), cv=5):\n",
    "\n",
    "    print('training level1 estimator...')\n",
    "    print('predicting with level0 estimators...')\n",
    "    \n",
    "    train_df = pd.read_csv(train_path, sep='\\t', names=['RowID', 'BeerID', 'ReviewerID', 'BeerName', 'BeerType', 'Label'])\n",
    "    reader = Reader(rating_scale=(0,5))\n",
    "    skf = StratifiedKFold(n_splits=cv)\n",
    "    level0_tmp = []\n",
    "\n",
    "    #stratified kfold\n",
    "    for train_index, test_index in skf.split(train_df['Label'], train_df['BeerID']):\n",
    "\n",
    "        train_split_df = train_df.iloc[train_index, :]\n",
    "        test_split_df = train_df.iloc[test_index, :]\n",
    "        train_data = Dataset.load_from_df(train_split_df.loc[:, ['ReviewerID', 'BeerID', 'Label']], reader)\n",
    "        trainset = train_data.build_full_trainset()\n",
    "        \n",
    "        for name, estimator in estimators.items():\n",
    "            estimator.fit(trainset)\n",
    "            test_split_df[name] = test_split_df.loc[:, ['ReviewerID', 'BeerID']].apply(lambda x: estimator.predict(x[0],x[1]).est, axis=1)\n",
    "        \n",
    "        level0_tmp.append(test_split_df)\n",
    "\n",
    "    level0_df = pd.concat(level0_tmp)\n",
    "    level0_df['Content_KNN'] = level0_df.loc[:, ['ReviewerID', 'BeerID']].apply(lambda x: content_knn.predict(x[0],x[1]), axis=1)\n",
    "    \n",
    "    print('training level1 estimator with predictions from level0 estimators')\n",
    "\n",
    "    X_train = level0_df[[name for name in estimators.keys()]+['Content_KNN']]\n",
    "    y_train = level0_df['Label']\n",
    "    final_estimator.fit(X_train, y_train)\n",
    "\n",
    "    print('done training level1 estimator...')\n",
    "    print('----------------------------------------')\n",
    "\n",
    "    return final_estimator"
   ]
  },
  {
   "cell_type": "code",
   "execution_count": 20,
   "id": "a5b6bd52",
   "metadata": {},
   "outputs": [],
   "source": [
    "def evaluate_stacked_estimator(val_path, estimators, content_knn, final_estimator):\n",
    "\n",
    "    print('evaluating the stacked model...')\n",
    "\n",
    "    val_df = pd.read_csv(val_path, sep='\\t', names=['RowID', 'BeerID', 'ReviewerID', 'BeerName', 'BeerType', 'Label'])\n",
    "\n",
    "    for name, estimator in estimators.items():\n",
    "        val_df[name] = val_df.loc[:, ['ReviewerID', 'BeerID']].apply(lambda x: estimator.predict(x[0],x[1]).est, axis=1)\n",
    "    \n",
    "    # add the prediction from Content_KNN\n",
    "    val_df['Content_KNN'] = val_df.loc[:, ['ReviewerID', 'BeerID']].apply(lambda x: content_knn.predict(x[0],x[1]), axis=1)\n",
    "\n",
    "    X_val = val_df[[name for name in estimators.keys()]+['Content_KNN']]\n",
    "    y_val = val_df['Label']\n",
    "    y_pred = final_estimator.predict(X_val)\n",
    "\n",
    "    print('done evaluating the stacked model...')\n",
    "    print('----------------------------------------')\n",
    "    \n",
    "    return mean_absolute_error(y_val, y_pred), mean_squared_error(y_val, y_pred, squared=False)"
   ]
  },
  {
   "cell_type": "code",
   "execution_count": 21,
   "id": "da8c9037",
   "metadata": {},
   "outputs": [],
   "source": [
    "def stacking_estimator_pred(test_path, estimators, content_knn, final_estimator):\n",
    "    \n",
    "    test_df = pd.read_csv(test_path, sep='\\t', names=['RowID', 'BeerID', 'ReviewerID', 'BeerName', 'BeerType'])\n",
    "\n",
    "    \n",
    "    for name, estimator in estimators.items():\n",
    "        test_df[name] = test_df.loc[:, ['ReviewerID', 'BeerID']].apply(lambda x: estimator.predict(x[0],x[1]).est, axis=1)\n",
    "\n",
    "    test_df['Content_KNN'] = test_df.loc[:, ['ReviewerID', 'BeerID']].apply(lambda x: content_knn.predict(x[0],x[1]), axis=1)\n",
    "\n",
    "\n",
    "    X_test = test_df[[name for name in estimators.keys()]+['Content_KNN']]\n",
    "    y_pred = final_estimator.predict(X_test)\n",
    "\n",
    "    \n",
    "    return y_pred"
   ]
  },
  {
   "cell_type": "code",
   "execution_count": 22,
   "id": "64f8a024",
   "metadata": {},
   "outputs": [
    {
     "name": "stdout",
     "output_type": "stream",
     "text": [
      "training SVD...\n",
      "evaluating SVD...\n",
      "done evaluating SVD ...\n",
      "----------------------------------------\n",
      "training User_KNN...\n",
      "Computing the cosine similarity matrix...\n"
     ]
    },
    {
     "name": "stderr",
     "output_type": "stream",
     "text": [
      "/Users/zhenqian/opt/anaconda3/envs/PDSA3/lib/python3.8/site-packages/surprise/prediction_algorithms/algo_base.py:249: RuntimeWarning: invalid value encountered in double_scalars\n",
      "  sim = construction_func[name](*args)\n"
     ]
    },
    {
     "name": "stdout",
     "output_type": "stream",
     "text": [
      "Done computing similarity matrix.\n",
      "evaluating User_KNN...\n",
      "done evaluating User_KNN ...\n",
      "----------------------------------------\n",
      "training Item_KNN...\n",
      "Estimating biases using als...\n",
      "Computing the msd similarity matrix...\n",
      "Done computing similarity matrix.\n",
      "evaluating Item_KNN...\n",
      "done evaluating Item_KNN ...\n",
      "----------------------------------------\n",
      "training CoClustering...\n"
     ]
    },
    {
     "name": "stderr",
     "output_type": "stream",
     "text": [
      "/var/folders/x7/svlnhrr926ldm39vsdrjjk5r0000gn/T/ipykernel_1891/2181159692.py:7: DeprecationWarning: `np.int` is a deprecated alias for the builtin `int`. To silence this warning, use `int` by itself. Doing this will not modify any behavior and is safe. When replacing `np.int`, you may wish to use e.g. `np.int64` or `np.int32` to specify the precision. If you wish to review your current use, check the release note link for additional information.\n",
      "Deprecated in NumPy 1.20; for more details and guidance: https://numpy.org/devdocs/release/1.20.0-notes.html#deprecations\n",
      "  estimator.fit(trainset)\n"
     ]
    },
    {
     "name": "stdout",
     "output_type": "stream",
     "text": [
      "evaluating CoClustering...\n",
      "done evaluating CoClustering ...\n",
      "----------------------------------------\n",
      "training BaselineOnly...\n",
      "Estimating biases using als...\n",
      "evaluating BaselineOnly...\n",
      "done evaluating BaselineOnly ...\n",
      "----------------------------------------\n",
      "Algorithm            MAE                  RMSE                \n",
      "SVD                  0.4443               0.5924              \n",
      "User_KNN             0.4591               0.6073              \n",
      "Item_KNN             0.4418               0.5904              \n",
      "CoClustering         0.5084               0.6497              \n",
      "BaselineOnly         0.4417               0.5899              \n",
      "evaluating SVD...\n"
     ]
    },
    {
     "name": "stderr",
     "output_type": "stream",
     "text": [
      "/Users/zhenqian/opt/anaconda3/envs/PDSA3/lib/python3.8/site-packages/sklearn/model_selection/_split.py:676: UserWarning: The least populated class in y has only 1 members, which is less than n_splits=10.\n",
      "  warnings.warn(\n"
     ]
    },
    {
     "name": "stdout",
     "output_type": "stream",
     "text": [
      "done evaluating SVD...\n",
      "----------------------------------------\n",
      "evaluating User_KNN...\n"
     ]
    },
    {
     "name": "stderr",
     "output_type": "stream",
     "text": [
      "/Users/zhenqian/opt/anaconda3/envs/PDSA3/lib/python3.8/site-packages/sklearn/model_selection/_split.py:676: UserWarning: The least populated class in y has only 1 members, which is less than n_splits=10.\n",
      "  warnings.warn(\n"
     ]
    },
    {
     "name": "stdout",
     "output_type": "stream",
     "text": [
      "Computing the cosine similarity matrix...\n"
     ]
    },
    {
     "name": "stderr",
     "output_type": "stream",
     "text": [
      "/Users/zhenqian/opt/anaconda3/envs/PDSA3/lib/python3.8/site-packages/surprise/prediction_algorithms/algo_base.py:249: RuntimeWarning: invalid value encountered in double_scalars\n",
      "  sim = construction_func[name](*args)\n"
     ]
    },
    {
     "name": "stdout",
     "output_type": "stream",
     "text": [
      "Done computing similarity matrix.\n",
      "Computing the cosine similarity matrix...\n",
      "Done computing similarity matrix.\n",
      "Computing the cosine similarity matrix...\n",
      "Done computing similarity matrix.\n",
      "Computing the cosine similarity matrix...\n",
      "Done computing similarity matrix.\n",
      "Computing the cosine similarity matrix...\n",
      "Done computing similarity matrix.\n",
      "Computing the cosine similarity matrix...\n",
      "Done computing similarity matrix.\n",
      "Computing the cosine similarity matrix...\n",
      "Done computing similarity matrix.\n",
      "Computing the cosine similarity matrix...\n",
      "Done computing similarity matrix.\n",
      "Computing the cosine similarity matrix...\n",
      "Done computing similarity matrix.\n",
      "Computing the cosine similarity matrix...\n",
      "Done computing similarity matrix.\n",
      "done evaluating User_KNN...\n",
      "----------------------------------------\n",
      "evaluating Item_KNN...\n"
     ]
    },
    {
     "name": "stderr",
     "output_type": "stream",
     "text": [
      "/Users/zhenqian/opt/anaconda3/envs/PDSA3/lib/python3.8/site-packages/sklearn/model_selection/_split.py:676: UserWarning: The least populated class in y has only 1 members, which is less than n_splits=10.\n",
      "  warnings.warn(\n"
     ]
    },
    {
     "name": "stdout",
     "output_type": "stream",
     "text": [
      "Estimating biases using als...\n",
      "Computing the msd similarity matrix...\n",
      "Done computing similarity matrix.\n",
      "Estimating biases using als...\n",
      "Computing the msd similarity matrix...\n",
      "Done computing similarity matrix.\n",
      "Estimating biases using als...\n",
      "Computing the msd similarity matrix...\n",
      "Done computing similarity matrix.\n",
      "Estimating biases using als...\n",
      "Computing the msd similarity matrix...\n",
      "Done computing similarity matrix.\n",
      "Estimating biases using als...\n",
      "Computing the msd similarity matrix...\n",
      "Done computing similarity matrix.\n",
      "Estimating biases using als...\n",
      "Computing the msd similarity matrix...\n",
      "Done computing similarity matrix.\n",
      "Estimating biases using als...\n",
      "Computing the msd similarity matrix...\n",
      "Done computing similarity matrix.\n",
      "Estimating biases using als...\n",
      "Computing the msd similarity matrix...\n",
      "Done computing similarity matrix.\n",
      "Estimating biases using als...\n",
      "Computing the msd similarity matrix...\n",
      "Done computing similarity matrix.\n",
      "Estimating biases using als...\n",
      "Computing the msd similarity matrix...\n",
      "Done computing similarity matrix.\n",
      "done evaluating Item_KNN...\n",
      "----------------------------------------\n",
      "evaluating CoClustering...\n"
     ]
    },
    {
     "name": "stderr",
     "output_type": "stream",
     "text": [
      "/Users/zhenqian/opt/anaconda3/envs/PDSA3/lib/python3.8/site-packages/sklearn/model_selection/_split.py:676: UserWarning: The least populated class in y has only 1 members, which is less than n_splits=10.\n",
      "  warnings.warn(\n",
      "/var/folders/x7/svlnhrr926ldm39vsdrjjk5r0000gn/T/ipykernel_1891/1948218898.py:18: DeprecationWarning: `np.int` is a deprecated alias for the builtin `int`. To silence this warning, use `int` by itself. Doing this will not modify any behavior and is safe. When replacing `np.int`, you may wish to use e.g. `np.int64` or `np.int32` to specify the precision. If you wish to review your current use, check the release note link for additional information.\n",
      "Deprecated in NumPy 1.20; for more details and guidance: https://numpy.org/devdocs/release/1.20.0-notes.html#deprecations\n",
      "  estimator.fit(trainset)\n"
     ]
    },
    {
     "name": "stdout",
     "output_type": "stream",
     "text": [
      "done evaluating CoClustering...\n",
      "----------------------------------------\n",
      "evaluating BaselineOnly...\n"
     ]
    },
    {
     "name": "stderr",
     "output_type": "stream",
     "text": [
      "/Users/zhenqian/opt/anaconda3/envs/PDSA3/lib/python3.8/site-packages/sklearn/model_selection/_split.py:676: UserWarning: The least populated class in y has only 1 members, which is less than n_splits=10.\n",
      "  warnings.warn(\n"
     ]
    },
    {
     "name": "stdout",
     "output_type": "stream",
     "text": [
      "Estimating biases using als...\n",
      "Estimating biases using als...\n",
      "Estimating biases using als...\n",
      "Estimating biases using als...\n",
      "Estimating biases using als...\n",
      "Estimating biases using als...\n",
      "Estimating biases using als...\n",
      "Estimating biases using als...\n",
      "Estimating biases using als...\n",
      "Estimating biases using als...\n",
      "done evaluating BaselineOnly...\n",
      "----------------------------------------\n"
     ]
    },
    {
     "data": {
      "image/png": "[encoded data removed]",
      "text/plain": [
       "<Figure size 1080x360 with 1 Axes>"
      ]
     },
     "metadata": {
      "needs_background": "light"
     },
     "output_type": "display_data"
    },
    {
     "name": "stdout",
     "output_type": "stream",
     "text": [
      "loading the dataframe with selected features (BrewerID and ABV)...\n",
      "---------------------------------------\n",
      "generating a content dictionary, BeerID being the keys, [BrewerID, ABV] being the values...\n",
      "done generating the dictionary...\n",
      "---------------------------------------\n",
      "computing content-based similarity matrix...\n",
      "0 of 14228\n",
      "1000 of 14228\n",
      "2000 of 14228\n",
      "3000 of 14228\n",
      "4000 of 14228\n",
      "5000 of 14228\n",
      "6000 of 14228\n",
      "7000 of 14228\n",
      "8000 of 14228\n",
      "9000 of 14228\n",
      "10000 of 14228\n",
      "11000 of 14228\n",
      "12000 of 14228\n",
      "13000 of 14228\n",
      "14000 of 14228\n",
      "done computing similarity matrix...\n",
      "---------------------------------------\n",
      "Algorithm            MAE                  RMSE                \n",
      "SVD                  0.4443               0.5924              \n",
      "User_KNN             0.4591               0.6073              \n",
      "Item_KNN             0.4418               0.5904              \n",
      "CoClustering         0.5084               0.6497              \n",
      "BaselineOnly         0.4417               0.5899              \n",
      "Content_KNN          0.5022               0.6759              \n",
      "training level0 estimators...\n",
      "training SVD...\n",
      "done training SVD...\n",
      "training User_KNN...\n",
      "Computing the cosine similarity matrix...\n"
     ]
    },
    {
     "name": "stderr",
     "output_type": "stream",
     "text": [
      "/Users/zhenqian/opt/anaconda3/envs/PDSA3/lib/python3.8/site-packages/surprise/prediction_algorithms/algo_base.py:249: RuntimeWarning: invalid value encountered in double_scalars\n",
      "  sim = construction_func[name](*args)\n"
     ]
    },
    {
     "name": "stdout",
     "output_type": "stream",
     "text": [
      "Done computing similarity matrix.\n",
      "done training User_KNN...\n",
      "training Item_KNN...\n",
      "Estimating biases using als...\n",
      "Computing the msd similarity matrix...\n",
      "Done computing similarity matrix.\n",
      "done training Item_KNN...\n",
      "training CoClustering...\n"
     ]
    },
    {
     "name": "stderr",
     "output_type": "stream",
     "text": [
      "/var/folders/x7/svlnhrr926ldm39vsdrjjk5r0000gn/T/ipykernel_1891/2801158563.py:12: DeprecationWarning: `np.int` is a deprecated alias for the builtin `int`. To silence this warning, use `int` by itself. Doing this will not modify any behavior and is safe. When replacing `np.int`, you may wish to use e.g. `np.int64` or `np.int32` to specify the precision. If you wish to review your current use, check the release note link for additional information.\n",
      "Deprecated in NumPy 1.20; for more details and guidance: https://numpy.org/devdocs/release/1.20.0-notes.html#deprecations\n",
      "  estimator.fit(trainset)\n"
     ]
    },
    {
     "name": "stdout",
     "output_type": "stream",
     "text": [
      "done training CoClustering...\n",
      "training BaselineOnly...\n",
      "Estimating biases using als...\n",
      "done training BaselineOnly...\n",
      "done training level0 estimators\n",
      "-----------------------------------------\n",
      "training level1 estimator...\n",
      "predicting with level0 estimators...\n"
     ]
    },
    {
     "name": "stderr",
     "output_type": "stream",
     "text": [
      "/Users/zhenqian/opt/anaconda3/envs/PDSA3/lib/python3.8/site-packages/sklearn/model_selection/_split.py:676: UserWarning: The least populated class in y has only 1 members, which is less than n_splits=5.\n",
      "  warnings.warn(\n",
      "/var/folders/x7/svlnhrr926ldm39vsdrjjk5r0000gn/T/ipykernel_1891/4293881125.py:21: SettingWithCopyWarning: \n",
      "A value is trying to be set on a copy of a slice from a DataFrame.\n",
      "Try using .loc[row_indexer,col_indexer] = value instead\n",
      "\n",
      "See the caveats in the documentation: https://pandas.pydata.org/pandas-docs/stable/user_guide/indexing.html#returning-a-view-versus-a-copy\n",
      "  test_split_df[name] = test_split_df.loc[:, ['ReviewerID', 'BeerID']].apply(lambda x: estimator.predict(x[0],x[1]).est, axis=1)\n"
     ]
    },
    {
     "name": "stdout",
     "output_type": "stream",
     "text": [
      "Computing the cosine similarity matrix...\n"
     ]
    },
    {
     "name": "stderr",
     "output_type": "stream",
     "text": [
      "/Users/zhenqian/opt/anaconda3/envs/PDSA3/lib/python3.8/site-packages/surprise/prediction_algorithms/algo_base.py:249: RuntimeWarning: invalid value encountered in double_scalars\n",
      "  sim = construction_func[name](*args)\n"
     ]
    },
    {
     "name": "stdout",
     "output_type": "stream",
     "text": [
      "Done computing similarity matrix.\n",
      "Estimating biases using als...\n",
      "Computing the msd similarity matrix...\n",
      "Done computing similarity matrix.\n"
     ]
    },
    {
     "name": "stderr",
     "output_type": "stream",
     "text": [
      "/var/folders/x7/svlnhrr926ldm39vsdrjjk5r0000gn/T/ipykernel_1891/4293881125.py:20: DeprecationWarning: `np.int` is a deprecated alias for the builtin `int`. To silence this warning, use `int` by itself. Doing this will not modify any behavior and is safe. When replacing `np.int`, you may wish to use e.g. `np.int64` or `np.int32` to specify the precision. If you wish to review your current use, check the release note link for additional information.\n",
      "Deprecated in NumPy 1.20; for more details and guidance: https://numpy.org/devdocs/release/1.20.0-notes.html#deprecations\n",
      "  estimator.fit(trainset)\n"
     ]
    },
    {
     "name": "stdout",
     "output_type": "stream",
     "text": [
      "Estimating biases using als...\n",
      "Computing the cosine similarity matrix...\n",
      "Done computing similarity matrix.\n",
      "Estimating biases using als...\n",
      "Computing the msd similarity matrix...\n",
      "Done computing similarity matrix.\n",
      "Estimating biases using als...\n",
      "Computing the cosine similarity matrix...\n",
      "Done computing similarity matrix.\n",
      "Estimating biases using als...\n",
      "Computing the msd similarity matrix...\n",
      "Done computing similarity matrix.\n",
      "Estimating biases using als...\n",
      "Computing the cosine similarity matrix...\n",
      "Done computing similarity matrix.\n",
      "Estimating biases using als...\n",
      "Computing the msd similarity matrix...\n",
      "Done computing similarity matrix.\n",
      "Estimating biases using als...\n",
      "Computing the cosine similarity matrix...\n",
      "Done computing similarity matrix.\n",
      "Estimating biases using als...\n",
      "Computing the msd similarity matrix...\n",
      "Done computing similarity matrix.\n",
      "Estimating biases using als...\n",
      "training level1 estimator with predictions from level0 estimators\n",
      "done training level1 estimator...\n",
      "----------------------------------------\n",
      "evaluating the stacked model...\n",
      "done evaluating the stacked model...\n",
      "----------------------------------------\n",
      "Algorithm            MAE                  RMSE                \n",
      "SVD                  0.4443               0.5924              \n",
      "User_KNN             0.4591               0.6073              \n",
      "Item_KNN             0.4418               0.5904              \n",
      "CoClustering         0.5084               0.6497              \n",
      "BaselineOnly         0.4417               0.5899              \n",
      "Content_KNN          0.5022               0.6759              \n",
      "Ensemble Model       0.4378               0.5844              \n"
     ]
    }
   ],
   "source": [
    "if __name__ == \"__main__\":\n",
    "\n",
    "    train_headers=['RowID', 'BeerID', 'ReviewerID', 'BeerName', 'BeerType', 'Label']\n",
    "    df_train = pd.read_csv('A3data/train.tsv', sep='\\t', names=train_headers)\n",
    "    clean_train = df_train.drop(['RowID','BeerName','BeerType'], axis=1)\n",
    "    df_val = pd.read_csv('A3data/val.tsv', sep='\\t', names=train_headers)\n",
    "    clean_val = df_val.drop(['RowID','BeerName','BeerType'], axis=1)\n",
    "    reader = Reader(rating_scale=(0,5))\n",
    "    data_train = Dataset.load_from_df(clean_train[['ReviewerID', 'BeerID', 'Label']], reader)\n",
    "    data_val = Dataset.load_from_df(clean_val[['ReviewerID', 'BeerID', 'Label']], reader)\n",
    "    trainset = data_train.build_full_trainset()\n",
    "    NA, valset = train_test_split(data_val, test_size=1.0)\n",
    "\n",
    "    # section 1: evaluate the built-in models from Surprise\n",
    "    estimators = get_models()\n",
    "    evaluation = evaluate(estimators)\n",
    "\n",
    "    # section 2: kfold cross validation for Suprise built-in models and visualization\n",
    "    estimators = get_models()\n",
    "    kfold_evalution(estimators)\n",
    "\n",
    "    # section 3: build a content based KNN model and evaluate it\n",
    "    content_dict = get_content_dict()\n",
    "    cknn = Content_KNN()\n",
    "    cknn.fit(trainset, content_dict)\n",
    "    pred = df_val.loc[:,['ReviewerID', 'BeerID']].apply(lambda x: cknn.predict(x[0], x[1]), axis=1).values\n",
    "    mae = mean_absolute_error(df_val['Label'], pred)\n",
    "    rmse = mean_squared_error(df_val['Label'], pred, squared=False)\n",
    "    evaluation['Content_KNN']=[mae, rmse]\n",
    "\n",
    "    print(\"{:<20} {:<20} {:<20}\".format(\"Algorithm\", \"MAE\", \"RMSE\"))\n",
    "    for name, metrics in evaluation.items():\n",
    "        print(\"{:<20} {:<20.4f} {:<20.4f}\".format(name, metrics[0], metrics[1]))\n",
    "\n",
    "    print('----------------------------------------')\n",
    "\n",
    "\n",
    "    # section 4: build a ensemble model to wrap up all models evaluated above\n",
    "    train_path = 'A3data/train.tsv'\n",
    "    val_path = 'A3data/val.tsv'\n",
    "    final_estimator = LinearRegression()\n",
    "\n",
    "    estimators = train_level0_estimators(train_path, estimators=get_models())\n",
    "    final_estimator = train_level1_estimator (train_path, final_estimator, cknn, estimators=get_models())\n",
    "    mae, rmse = evaluate_stacked_estimator(val_path, estimators, cknn, final_estimator)\n",
    "\n",
    "    evaluation['Ensemble Model']=[mae, rmse]\n",
    "\n",
    "    print(\"{:<20} {:<20} {:<20}\".format(\"Algorithm\", \"MAE\", \"RMSE\"))\n",
    "    for name, metrics in evaluation.items():\n",
    "        print(\"{:<20} {:<20.4f} {:<20.4f}\".format(name, metrics[0], metrics[1]))\n",
    "\n",
    "    print('----------------------------------------')\n",
    "\n",
    "    # create predictions on test set using BaselineOnly: run-1\n",
    "    print('saving a total of 3 test runs...')\n",
    "    print('saving run-1 (1/3)...')\n",
    "    test_path='A3data/test.tsv'\n",
    "    test_df=pd.read_csv(test_path, sep='\\t', names=['RowID', 'BeerID', 'ReviewerID', 'BeerName', 'BeerType'])\n",
    "    y_pred = test_df.loc[:, ['ReviewerID', 'BeerID']].apply(lambda x: estimators['BaselineOnly'].predict(x[0],x[1]).est, axis=1)\n",
    "    test_df['pred']=y_pred\n",
    "\n",
    "    test_df[['RowID', 'pred']].to_csv('A3-1.tsv', sep='\\t', index=False, header=False)\n",
    "\n",
    "    # create predictions on test set using Item_KNN: run-2\n",
    "    print('saving run-2 (2/3)...')\n",
    "    test_path='A3data/test.tsv'\n",
    "    test_df=pd.read_csv(test_path, sep='\\t', names=['RowID', 'BeerID', 'ReviewerID', 'BeerName', 'BeerType'])\n",
    "    y_pred = test_df.loc[:, ['ReviewerID', 'BeerID']].apply(lambda x: estimators['Item_KNN'].predict(x[0],x[1]).est, axis=1)\n",
    "    test_df['pred']=y_pred\n",
    "\n",
    "    test_df[['RowID', 'pred']].to_csv('A3-2.tsv', sep='\\t', index=False, header=False)\n",
    "\n",
    "    # create predictions on test set using ensemble model: run-3\n",
    "    print('saving run-3 (3/3)...')\n",
    "    test_path='A3data/test.tsv'\n",
    "    test_df=pd.read_csv(test_path, sep='\\t', names=['RowID', 'BeerID', 'ReviewerID', 'BeerName', 'BeerType'])\n",
    "    y_pred = stacking_estimator_pred(test_path, estimators, cknn, final_estimator)\n",
    "    test_df['pred']=y_pred\n",
    "\n",
    "    test_df[['RowID', 'pred']].to_csv('A3-3.tsv', sep='\\t', index=False, header=False)\n",
    "\n",
    "    print('all tasks completed...thank you...')\n",
    "\n",
    "    # show the figure correspond to section 2\n",
    "    plt.show()\n",
    "\n",
    "   \n",
    "\n",
    "    \n",
    "\n",
    "    \n",
    "\n",
    "    "
   ]
  },
  {
   "cell_type": "code",
   "execution_count": null,
   "id": "85214c26",
   "metadata": {},
   "outputs": [],
   "source": []
  }
 ],
 "metadata": {
  "interpreter": {
   "hash": "e44fbf5679a7f8b67243029a2caba3128ae63f49232b99ee35bca35147505953"
  },
  "kernelspec": {
   "display_name": "Python 3",
   "language": "python",
   "name": "python3"
  },
  "language_info": {
   "codemirror_mode": {
    "name": "ipython",
    "version": 3
   },
   "file_extension": ".py",
   "mimetype": "text/x-python",
   "name": "python",
   "nbconvert_exporter": "python",
   "pygments_lexer": "ipython3",
   "version": "3.8.8"
  }
 },
 "nbformat": 4,
 "nbformat_minor": 5
}
